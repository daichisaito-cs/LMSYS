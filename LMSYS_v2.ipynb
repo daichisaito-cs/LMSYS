{
  "nbformat": 4,
  "nbformat_minor": 0,
  "metadata": {
    "colab": {
      "provenance": [],
      "authorship_tag": "ABX9TyNgDE+rH3nvGUZm2zwoqc3P",
      "include_colab_link": true
    },
    "kernelspec": {
      "name": "python3",
      "display_name": "Python 3"
    },
    "language_info": {
      "name": "python"
    }
  },
  "cells": [
    {
      "cell_type": "markdown",
      "metadata": {
        "id": "view-in-github",
        "colab_type": "text"
      },
      "source": [
        "<a href=\"https://colab.research.google.com/github/daichisaito-cs/LMSYS/blob/main/LMSYS_v2.ipynb\" target=\"_parent\"><img src=\"https://colab.research.google.com/assets/colab-badge.svg\" alt=\"Open In Colab\"/></a>"
      ]
    },
    {
      "cell_type": "markdown",
      "source": [
        "#  Setup"
      ],
      "metadata": {
        "id": "ylbbUkOmfnXW"
      }
    },
    {
      "cell_type": "code",
      "source": [
        "# driveのマウント\n",
        "from google.colab import drive\n",
        "drive.mount('/content/drive')"
      ],
      "metadata": {
        "colab": {
          "base_uri": "https://localhost:8080/"
        },
        "id": "2kTyGXvDfvSp",
        "outputId": "4473a432-5935-4998-94f6-133fd7a269d3"
      },
      "execution_count": 1,
      "outputs": [
        {
          "output_type": "stream",
          "name": "stdout",
          "text": [
            "Mounted at /content/drive\n"
          ]
        }
      ]
    },
    {
      "cell_type": "code",
      "execution_count": 2,
      "metadata": {
        "colab": {
          "base_uri": "https://localhost:8080/"
        },
        "id": "82KgSsVCflj_",
        "outputId": "7f71b8b0-4c59-4c62-c5e1-af3a7c8319b5"
      },
      "outputs": [
        {
          "output_type": "stream",
          "name": "stdout",
          "text": [
            "Requirement already satisfied: kaggle in /usr/local/lib/python3.10/dist-packages (1.6.14)\n",
            "Requirement already satisfied: six>=1.10 in /usr/local/lib/python3.10/dist-packages (from kaggle) (1.16.0)\n",
            "Requirement already satisfied: certifi>=2023.7.22 in /usr/local/lib/python3.10/dist-packages (from kaggle) (2024.6.2)\n",
            "Requirement already satisfied: python-dateutil in /usr/local/lib/python3.10/dist-packages (from kaggle) (2.8.2)\n",
            "Requirement already satisfied: requests in /usr/local/lib/python3.10/dist-packages (from kaggle) (2.31.0)\n",
            "Requirement already satisfied: tqdm in /usr/local/lib/python3.10/dist-packages (from kaggle) (4.66.4)\n",
            "Requirement already satisfied: python-slugify in /usr/local/lib/python3.10/dist-packages (from kaggle) (8.0.4)\n",
            "Requirement already satisfied: urllib3 in /usr/local/lib/python3.10/dist-packages (from kaggle) (2.0.7)\n",
            "Requirement already satisfied: bleach in /usr/local/lib/python3.10/dist-packages (from kaggle) (6.1.0)\n",
            "Requirement already satisfied: webencodings in /usr/local/lib/python3.10/dist-packages (from bleach->kaggle) (0.5.1)\n",
            "Requirement already satisfied: text-unidecode>=1.3 in /usr/local/lib/python3.10/dist-packages (from python-slugify->kaggle) (1.3)\n",
            "Requirement already satisfied: charset-normalizer<4,>=2 in /usr/local/lib/python3.10/dist-packages (from requests->kaggle) (3.3.2)\n",
            "Requirement already satisfied: idna<4,>=2.5 in /usr/local/lib/python3.10/dist-packages (from requests->kaggle) (3.7)\n"
          ]
        }
      ],
      "source": [
        "# Kaggle APIのインストール\n",
        "!pip install kaggle\n",
        "\n",
        "# マウントしたDriveの任意のフォルダに置いたkaggle.jsonファイルを\n",
        "!cp \"/content/drive/Shareddrives/株式会社inSane (1)/Workspace/kaggle/kaggle.json\" /content/\n",
        "\n",
        "# kaggle.jsonをColabのストレージにコピーする\n",
        "!mkdir -p ~/.kaggle/ && mv kaggle.json ~/.kaggle/ && chmod 600 ~/.kaggle/kaggle.json"
      ]
    },
    {
      "cell_type": "code",
      "source": [
        "!mkdir -p /content/input\n",
        "\n",
        "!kaggle datasets download -d kishanvavdara/lmsys-model -p /content/input\n",
        "!kaggle datasets download -d stochoshi/lsys-models-4 -p /content/input\n",
        "\n",
        "!unzip /content/input/lmsys-model.zip -d /content/input/lmsys-model\n",
        "!unzip /content/input/lsys-models-4.zip -d /content/input/lsys-models-4"
      ],
      "metadata": {
        "colab": {
          "base_uri": "https://localhost:8080/"
        },
        "id": "HPfqyCszglIH",
        "outputId": "2e32dd46-d433-4e1e-ca31-03b1021f8f11"
      },
      "execution_count": 6,
      "outputs": [
        {
          "output_type": "stream",
          "name": "stdout",
          "text": [
            "Dataset URL: https://www.kaggle.com/datasets/kishanvavdara/lmsys-model\n",
            "License(s): unknown\n",
            "Downloading lmsys-model.zip to /content/input\n",
            " 91% 24.0M/26.4M [00:01<00:00, 33.1MB/s]\n",
            "100% 26.4M/26.4M [00:01<00:00, 21.0MB/s]\n",
            "Dataset URL: https://www.kaggle.com/datasets/stochoshi/lsys-models-4\n",
            "License(s): CC0-1.0\n",
            "Downloading lsys-models-4.zip to /content/input\n",
            "100% 745M/748M [00:20<00:00, 40.5MB/s]\n",
            "100% 748M/748M [00:20<00:00, 38.5MB/s]\n",
            "Archive:  /content/input/lmsys-model.zip\n",
            "  inflating: /content/input/lmsys-model/model  \n",
            "  inflating: /content/input/lmsys-model/spmd_util.py  \n",
            "  inflating: /content/input/lmsys-model/tokenizer/special_tokens_map.json  \n",
            "  inflating: /content/input/lmsys-model/tokenizer/tokenizer.json  \n",
            "  inflating: /content/input/lmsys-model/tokenizer/tokenizer_config.json  \n",
            "Archive:  /content/input/lsys-models-4.zip\n",
            "  inflating: /content/input/lsys-models-4/ccvec.pkl  \n",
            "  inflating: /content/input/lsys-models-4/cvec.pkl  \n",
            "  inflating: /content/input/lsys-models-4/hash  \n",
            "  inflating: /content/input/lsys-models-4/lgb_models.pkl  \n",
            "  inflating: /content/input/lsys-models-4/lion/.git/HEAD  \n",
            "  inflating: /content/input/lsys-models-4/lion/.git/config  \n",
            "  inflating: /content/input/lsys-models-4/lion/.git/description  \n",
            "  inflating: /content/input/lsys-models-4/lion/.git/hooks/applypatch-msg.sample  \n",
            "  inflating: /content/input/lsys-models-4/lion/.git/hooks/commit-msg.sample  \n",
            "  inflating: /content/input/lsys-models-4/lion/.git/hooks/fsmonitor-watchman.sample  \n",
            "  inflating: /content/input/lsys-models-4/lion/.git/hooks/post-update.sample  \n",
            "  inflating: /content/input/lsys-models-4/lion/.git/hooks/pre-applypatch.sample  \n",
            "  inflating: /content/input/lsys-models-4/lion/.git/hooks/pre-commit.sample  \n",
            "  inflating: /content/input/lsys-models-4/lion/.git/hooks/pre-merge-commit.sample  \n",
            "  inflating: /content/input/lsys-models-4/lion/.git/hooks/pre-push.sample  \n",
            "  inflating: /content/input/lsys-models-4/lion/.git/hooks/pre-rebase.sample  \n",
            "  inflating: /content/input/lsys-models-4/lion/.git/hooks/pre-receive.sample  \n",
            "  inflating: /content/input/lsys-models-4/lion/.git/hooks/prepare-commit-msg.sample  \n",
            "  inflating: /content/input/lsys-models-4/lion/.git/hooks/push-to-checkout.sample  \n",
            "  inflating: /content/input/lsys-models-4/lion/.git/hooks/update.sample  \n",
            "  inflating: /content/input/lsys-models-4/lion/.git/index  \n",
            "  inflating: /content/input/lsys-models-4/lion/.git/info/exclude  \n",
            "  inflating: /content/input/lsys-models-4/lion/.git/logs/HEAD  \n",
            "  inflating: /content/input/lsys-models-4/lion/.git/logs/refs/heads/main  \n",
            "  inflating: /content/input/lsys-models-4/lion/.git/logs/refs/remotes/origin/HEAD  \n",
            "  inflating: /content/input/lsys-models-4/lion/.git/objects/pack/pack-f52a35ec9bf6829822736dbab188f372c854d041.idx  \n",
            "  inflating: /content/input/lsys-models-4/lion/.git/objects/pack/pack-f52a35ec9bf6829822736dbab188f372c854d041.pack  \n",
            "  inflating: /content/input/lsys-models-4/lion/.git/packed-refs  \n",
            "  inflating: /content/input/lsys-models-4/lion/.git/refs/heads/main  \n",
            "  inflating: /content/input/lsys-models-4/lion/.git/refs/remotes/origin/HEAD  \n",
            "  inflating: /content/input/lsys-models-4/lion/.github/workflows/python-publish.yml  \n",
            "  inflating: /content/input/lsys-models-4/lion/.gitignore  \n",
            "  inflating: /content/input/lsys-models-4/lion/LICENSE  \n",
            "  inflating: /content/input/lsys-models-4/lion/README.md  \n",
            "  inflating: /content/input/lsys-models-4/lion/lion.png  \n",
            "  inflating: /content/input/lsys-models-4/lion/lion_pytorch/__init__.py  \n",
            "  inflating: /content/input/lsys-models-4/lion/lion_pytorch/lion_pytorch.py  \n",
            "  inflating: /content/input/lsys-models-4/lion/lion_pytorch/triton.py  \n",
            "  inflating: /content/input/lsys-models-4/lion/setup.py  \n",
            "  inflating: /content/input/lsys-models-4/models/77162faf8b6b0083/added_tokens.json  \n",
            "  inflating: /content/input/lsys-models-4/models/77162faf8b6b0083/config.json  \n",
            "  inflating: /content/input/lsys-models-4/models/77162faf8b6b0083/params.json  \n",
            "  inflating: /content/input/lsys-models-4/models/77162faf8b6b0083/special_tokens_map.json  \n",
            "  inflating: /content/input/lsys-models-4/models/77162faf8b6b0083/spm.model  \n",
            "  inflating: /content/input/lsys-models-4/models/77162faf8b6b0083/tokenizer.json  \n",
            "  inflating: /content/input/lsys-models-4/models/77162faf8b6b0083/tokenizer_config.json  \n",
            "  inflating: /content/input/lsys-models-4/models/77162faf8b6b0083/weights.pt  \n"
          ]
        }
      ]
    },
    {
      "cell_type": "markdown",
      "source": [
        "# Submission"
      ],
      "metadata": {
        "id": "zvezolKGhUvB"
      }
    },
    {
      "cell_type": "code",
      "source": [
        "!kaggle competitions submit competitive-data-science-predict-future-sales -f \"/content/drive/MyDrive/{hoge}\" -m \"{message}\""
      ],
      "metadata": {
        "id": "_gMuETNghVug"
      },
      "execution_count": null,
      "outputs": []
    },
    {
      "cell_type": "code",
      "source": [
        "!ls"
      ],
      "metadata": {
        "colab": {
          "base_uri": "https://localhost:8080/"
        },
        "id": "7SIuNTopmAH_",
        "outputId": "66186162-40fc-4621-ab13-1db6774a03e7"
      },
      "execution_count": 7,
      "outputs": [
        {
          "output_type": "stream",
          "name": "stdout",
          "text": [
            "drive  input  sample_data\n"
          ]
        }
      ]
    },
    {
      "cell_type": "code",
      "source": [],
      "metadata": {
        "id": "E8DGOXvBmA5j"
      },
      "execution_count": null,
      "outputs": []
    }
  ]
}